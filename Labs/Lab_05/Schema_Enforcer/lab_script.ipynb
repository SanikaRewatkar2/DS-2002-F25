{
 "cells": [
  {
   "cell_type": "code",
   "execution_count": 1,
   "id": "7c120e71",
   "metadata": {},
   "outputs": [
    {
     "name": "stdout",
     "output_type": "stream",
     "text": [
      "Modules Imported\n"
     ]
    }
   ],
   "source": [
    "import pandas as pd\n",
    "import json\n",
    "print(\"Modules Imported\")"
   ]
  },
  {
   "cell_type": "code",
   "execution_count": 4,
   "id": "2e44879b",
   "metadata": {},
   "outputs": [],
   "source": [
    "# Let's create our students data\n",
    "# Here's a handy source for help: https://www.geeksforgeeks.org/pandas/saving-a-pandas-dataframe-as-a-csv/\n",
    "student_ids = [1121, 6666, 8327, 5973, 4085]\n",
    "majors = [\"Computer Science\", \"English\", \"Psychology\", \"Biology\", \"Computer Science\"]\n",
    "GPAs = [3.94, 2.5, 4, 3, 3.5]\n",
    "are_cs_major = [\"Yes\", \"No\", \"No\", \"No\", \"Yes\"]\n",
    "credits_taken = [\"77\", \"66\", \"10.5\", \"30\", \"17.5\"]\n",
    "\n",
    "data_dict = {\"student_id\": student_ids, \"major\": majors, \"GPA\": GPAs, \"is_cs_major\": are_cs_major, \"credits_taken\": credits_taken}\n",
    "data_df = pd.DataFrame(data_dict)\n",
    "data_df.to_csv(\"raw_survey_data.csv\", index=False)"
   ]
  },
  {
   "cell_type": "code",
   "execution_count": 6,
   "id": "7ae4108d",
   "metadata": {},
   "outputs": [],
   "source": [
    "# now let's make  a JSON!\n",
    "# nice source: https://www.w3schools.com/python/python_json.asp\n",
    "# ok, so I added a fake TA for Psych and Engineering Ethics but who cares\n",
    "my_data = [\n",
    "  {\n",
    "    \"course_id\": \"DS2002\",\n",
    "    \"section\": \"001\",\n",
    "    \"title\": \"Data Science Systems\",\n",
    "    \"level\": 200,\n",
    "    \"instructors\": [\n",
    "      {\"name\": \"Austin Rivera\", \"role\": \"Primary\"}, \n",
    "      {\"name\": \"Heywood Williams-Tracy\", \"role\": \"TA\"} \n",
    "    ]\n",
    "  },\n",
    "  {\n",
    "    \"course_id\": \"CS3710\",\n",
    "    \"title\": \"Intro to Cybersecurity\",\n",
    "    \"level\": 300,\n",
    "    \"instructors\": [\n",
    "      {\"name\": \"Angela Orebaugh\", \"role\": \"Primary\"}\n",
    "    ]\n",
    "  },\n",
    "    {\n",
    "    \"course_id\": \"STS2600\",\n",
    "    \"title\": \"Engineering Ethics\",\n",
    "    \"level\": 200,\n",
    "    \"instructors\": [\n",
    "      {\"name\": \"William Davis\", \"role\": \"Primary\"},\n",
    "      {\"name\": \"Sue Keeney\", \"role\": \"TA\"}\n",
    "    ]\n",
    "  },\n",
    "    {\n",
    "    \"course_id\": \"CS4640\",\n",
    "    \"title\": \"Programming Languages for Web Applications\",\n",
    "    \"level\": 400,\n",
    "    \"instructors\": [\n",
    "      {\"name\": \"Sarah Elder\", \"role\": \"Primary\"}\n",
    "    ]\n",
    "  },\n",
    "    {\n",
    "    \"course_id\": \"PSYC1010\",\n",
    "    \"title\": \"Intro to Pyschology\",\n",
    "    \"level\": 100,\n",
    "    \"instructors\": [\n",
    "      {\"name\": \"Christopher Mazurek\", \"role\": \"Primary\"},\n",
    "      {\"name\": \"Alba Tross\", \"role\": \"TA\"}\n",
    "    ]\n",
    "  }\n",
    "]\n",
    "\n",
    "json_string = json.dumps(my_data, indent=4)\n",
    "\n",
    "# write to a file: https://www.geeksforgeeks.org/python/reading-and-writing-json-to-a-file-in-python/\n",
    "with open(\"raw_course_catalog.json\", \"w\") as f:\n",
    "    f.write(json_string)\n",
    "\n"
   ]
  },
  {
   "cell_type": "code",
   "execution_count": 8,
   "id": "5c38ff2f",
   "metadata": {},
   "outputs": [
    {
     "name": "stdout",
     "output_type": "stream",
     "text": [
      "   student_id             major   GPA is_cs_major  credits_taken\n",
      "0        1121  Computer Science  3.94         Yes           77.0\n",
      "1        6666           English  2.50          No           66.0\n",
      "2        8327        Psychology  4.00          No           10.5\n",
      "3        5973           Biology  3.00          No           30.0\n",
      "4        4085  Computer Science  3.50         Yes           17.5\n"
     ]
    }
   ],
   "source": [
    "# okaaaaaay so I didn't know that I had to read my csv as a pandas dataframe\n",
    "# considering I already made a dataframe to make the csv ooopsy\n",
    "# so I'll do this anyway: https://www.w3schools.com/python/pandas/pandas_csv.asp \n",
    "clean_data_df = pd.read_csv(\"raw_survey_data.csv\")\n",
    "print(clean_data_df)"
   ]
  },
  {
   "cell_type": "code",
   "execution_count": 12,
   "id": "e60f1243",
   "metadata": {},
   "outputs": [
    {
     "name": "stdout",
     "output_type": "stream",
     "text": [
      "   student_id             major   GPA  is_cs_major  credits_taken\n",
      "0        1121  Computer Science  3.94         True           77.0\n",
      "1        6666           English  2.50        False           66.0\n",
      "2        8327        Psychology  4.00        False           10.5\n",
      "3        5973           Biology  3.00        False           30.0\n",
      "4        4085  Computer Science  3.50         True           17.5\n"
     ]
    },
    {
     "name": "stderr",
     "output_type": "stream",
     "text": [
      "C:\\Users\\SanikaRewatkar\\AppData\\Local\\Temp\\ipykernel_1736\\4276600408.py:3: FutureWarning: Downcasting behavior in `replace` is deprecated and will be removed in a future version. To retain the old behavior, explicitly call `result.infer_objects(copy=False)`. To opt-in to the future behavior, set `pd.set_option('future.no_silent_downcasting', True)`\n",
      "  clean_data_df = clean_data_df.replace([\"Yes\", \"No\"], [True, False])\n"
     ]
    }
   ],
   "source": [
    "# Now let's clean it\n",
    "# Replace Yes and No with Booleans properly: https://www.geeksforgeeks.org/data-analysis/python-pandas-dataframe-replace/\n",
    "clean_data_df = clean_data_df.replace([\"Yes\", \"No\"], [True, False])\n",
    "print(clean_data_df)"
   ]
  },
  {
   "cell_type": "code",
   "execution_count": 14,
   "id": "735b97f8",
   "metadata": {},
   "outputs": [
    {
     "name": "stdout",
     "output_type": "stream",
     "text": [
      "student_id         int64\n",
      "major             object\n",
      "GPA              float64\n",
      "is_cs_major         bool\n",
      "credits_taken    float64\n",
      "dtype: object\n"
     ]
    }
   ],
   "source": [
    "# Now let's convert GPA and credits_taken into floats\n",
    "# source: https://www.geeksforgeeks.org/python/python-pandas-dataframe-astype/\n",
    "clean_data_df = clean_data_df.astype({\"GPA\": float, \"credits_taken\": float})\n",
    "print(clean_data_df.dtypes)"
   ]
  },
  {
   "cell_type": "code",
   "execution_count": 15,
   "id": "e4e6536c",
   "metadata": {},
   "outputs": [],
   "source": [
    "# Now let's save as a new csv\n",
    "clean_data_df.to_csv(\"clean_survey_data.csv\", index=False)"
   ]
  },
  {
   "cell_type": "code",
   "execution_count": 22,
   "id": "d499a93a",
   "metadata": {},
   "outputs": [
    {
     "name": "stdout",
     "output_type": "stream",
     "text": [
      "[{'course_id': 'DS2002', 'section': '001', 'title': 'Data Science Systems', 'level': 200, 'instructors': [{'name': 'Austin Rivera', 'role': 'Primary'}, {'name': 'Heywood Williams-Tracy', 'role': 'TA'}]}, {'course_id': 'CS3710', 'title': 'Intro to Cybersecurity', 'level': 300, 'instructors': [{'name': 'Angela Orebaugh', 'role': 'Primary'}]}, {'course_id': 'STS2600', 'title': 'Engineering Ethics', 'level': 200, 'instructors': [{'name': 'William Davis', 'role': 'Primary'}, {'name': 'Sue Keeney', 'role': 'TA'}]}, {'course_id': 'CS4640', 'title': 'Programming Languages for Web Applications', 'level': 400, 'instructors': [{'name': 'Sarah Elder', 'role': 'Primary'}]}, {'course_id': 'PSYC1010', 'title': 'Intro to Pyschology', 'level': 100, 'instructors': [{'name': 'Christopher Mazurek', 'role': 'Primary'}, {'name': 'Alba Tross', 'role': 'TA'}]}]\n"
     ]
    }
   ],
   "source": [
    "# It's time to NORMALIZE THE JSON! YAY\n",
    "# Source: https://www.geeksforgeeks.org/python/json-load-in-python/\n",
    "with open(\"raw_course_catalog.json\", \"r\") as f:\n",
    "    cata_json = json.load(f)\n",
    "\n",
    "print(cata_json)"
   ]
  },
  {
   "cell_type": "code",
   "execution_count": 23,
   "id": "f68a1429",
   "metadata": {},
   "outputs": [
    {
     "name": "stdout",
     "output_type": "stream",
     "text": [
      "                     name     role course_id  \\\n",
      "0           Austin Rivera  Primary    DS2002   \n",
      "1  Heywood Williams-Tracy       TA    DS2002   \n",
      "2         Angela Orebaugh  Primary    CS3710   \n",
      "3           William Davis  Primary   STS2600   \n",
      "4              Sue Keeney       TA   STS2600   \n",
      "5             Sarah Elder  Primary    CS4640   \n",
      "6     Christopher Mazurek  Primary  PSYC1010   \n",
      "7              Alba Tross       TA  PSYC1010   \n",
      "\n",
      "                                        title level  \n",
      "0                        Data Science Systems   200  \n",
      "1                        Data Science Systems   200  \n",
      "2                      Intro to Cybersecurity   300  \n",
      "3                          Engineering Ethics   200  \n",
      "4                          Engineering Ethics   200  \n",
      "5  Programming Languages for Web Applications   400  \n",
      "6                         Intro to Pyschology   100  \n",
      "7                         Intro to Pyschology   100  \n"
     ]
    }
   ],
   "source": [
    "# pandas dataframe time what am i fdoing\n",
    "cata_df = pd.json_normalize(cata_json, record_path=['instructors'], meta=['course_id', 'title', 'level'])\n",
    "print(cata_df)\n",
    "cata_df.to_csv(\"clean_course_catalog.csv\", index=False)"
   ]
  },
  {
   "cell_type": "code",
   "execution_count": null,
   "id": "89ea1493",
   "metadata": {},
   "outputs": [],
   "source": []
  }
 ],
 "metadata": {
  "kernelspec": {
   "display_name": ".conda",
   "language": "python",
   "name": "python3"
  },
  "language_info": {
   "codemirror_mode": {
    "name": "ipython",
    "version": 3
   },
   "file_extension": ".py",
   "mimetype": "text/x-python",
   "name": "python",
   "nbconvert_exporter": "python",
   "pygments_lexer": "ipython3",
   "version": "3.11.11"
  }
 },
 "nbformat": 4,
 "nbformat_minor": 5
}
