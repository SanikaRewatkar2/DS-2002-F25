{
 "cells": [
  {
   "cell_type": "code",
   "execution_count": 1,
   "id": "7c120e71",
   "metadata": {},
   "outputs": [
    {
     "name": "stdout",
     "output_type": "stream",
     "text": [
      "Modules Imported\n"
     ]
    }
   ],
   "source": [
    "import pandas as pd\n",
    "import json\n",
    "print(\"Modules Imported\")"
   ]
  },
  {
   "cell_type": "code",
   "execution_count": 4,
   "id": "2e44879b",
   "metadata": {},
   "outputs": [],
   "source": [
    "# Let's create our students data\n",
    "# Here's a handy source for help: https://www.geeksforgeeks.org/pandas/saving-a-pandas-dataframe-as-a-csv/\n",
    "student_ids = [1121, 6666, 8327, 5973, 4085]\n",
    "majors = [\"Computer Science\", \"English\", \"Psychology\", \"Biology\", \"Computer Science\"]\n",
    "GPAs = [3.94, 2.5, 4, 3, 3.5]\n",
    "are_cs_major = [\"Yes\", \"No\", \"No\", \"No\", \"Yes\"]\n",
    "credits_taken = [\"77\", \"66\", \"10.5\", \"30\", \"17.5\"]\n",
    "\n",
    "data_dict = {\"student_id\": student_ids, \"major\": majors, \"GPA\": GPAs, \"is_cs_major\": are_cs_major, \"credits_taken\": credits_taken}\n",
    "data_df = pd.DataFrame(data_dict)\n",
    "data_df.to_csv(\"raw_survey_data.csv\", index=False)"
   ]
  },
  {
   "cell_type": "code",
   "execution_count": 6,
   "id": "7ae4108d",
   "metadata": {},
   "outputs": [],
   "source": [
    "# now let's make  a JSON!\n",
    "# nice source: https://www.w3schools.com/python/python_json.asp\n",
    "# ok, so I added a fake TA for Psych and Engineering Ethics but who cares\n",
    "my_data = [\n",
    "  {\n",
    "    \"course_id\": \"DS2002\",\n",
    "    \"section\": \"001\",\n",
    "    \"title\": \"Data Science Systems\",\n",
    "    \"level\": 200,\n",
    "    \"instructors\": [\n",
    "      {\"name\": \"Austin Rivera\", \"role\": \"Primary\"}, \n",
    "      {\"name\": \"Heywood Williams-Tracy\", \"role\": \"TA\"} \n",
    "    ]\n",
    "  },\n",
    "  {\n",
    "    \"course_id\": \"CS3710\",\n",
    "    \"title\": \"Intro to Cybersecurity\",\n",
    "    \"level\": 300,\n",
    "    \"instructors\": [\n",
    "      {\"name\": \"Angela Orebaugh\", \"role\": \"Primary\"}\n",
    "    ]\n",
    "  },\n",
    "    {\n",
    "    \"course_id\": \"STS2600\",\n",
    "    \"title\": \"Engineering Ethics\",\n",
    "    \"level\": 200,\n",
    "    \"instructors\": [\n",
    "      {\"name\": \"William Davis\", \"role\": \"Primary\"},\n",
    "      {\"name\": \"Sue Keeney\", \"role\": \"TA\"}\n",
    "    ]\n",
    "  },\n",
    "    {\n",
    "    \"course_id\": \"CS4640\",\n",
    "    \"title\": \"Programming Languages for Web Applications\",\n",
    "    \"level\": 400,\n",
    "    \"instructors\": [\n",
    "      {\"name\": \"Sarah Elder\", \"role\": \"Primary\"}\n",
    "    ]\n",
    "  },\n",
    "    {\n",
    "    \"course_id\": \"PSYC1010\",\n",
    "    \"title\": \"Intro to Pyschology\",\n",
    "    \"level\": 100,\n",
    "    \"instructors\": [\n",
    "      {\"name\": \"Christopher Mazurek\", \"role\": \"Primary\"},\n",
    "      {\"name\": \"Alba Tross\", \"role\": \"TA\"}\n",
    "    ]\n",
    "  }\n",
    "]\n",
    "\n",
    "json_string = json.dumps(my_data, indent=4)\n",
    "\n",
    "# write to a file: https://www.geeksforgeeks.org/python/reading-and-writing-json-to-a-file-in-python/\n",
    "with open(\"raw_course_catalog.json\", \"w\") as f:\n",
    "    f.write(json_string)\n",
    "\n"
   ]
  },
  {
   "cell_type": "code",
   "execution_count": null,
   "id": "5c38ff2f",
   "metadata": {},
   "outputs": [],
   "source": []
  }
 ],
 "metadata": {
  "kernelspec": {
   "display_name": ".conda",
   "language": "python",
   "name": "python3"
  },
  "language_info": {
   "codemirror_mode": {
    "name": "ipython",
    "version": 3
   },
   "file_extension": ".py",
   "mimetype": "text/x-python",
   "name": "python",
   "nbconvert_exporter": "python",
   "pygments_lexer": "ipython3",
   "version": "3.11.11"
  }
 },
 "nbformat": 4,
 "nbformat_minor": 5
}
